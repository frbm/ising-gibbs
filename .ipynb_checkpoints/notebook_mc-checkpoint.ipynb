{
 "cells": [
  {
   "cell_type": "code",
   "execution_count": null,
   "id": "1675c3af",
   "metadata": {
    "id": "1675c3af"
   },
   "outputs": [],
   "source": [
    "import numpy as np\n",
    "from skimage import io\n",
    "import plotly.express as px\n",
    "import plotly.graph_objs as go\n",
    "from copy import copy\n",
    "from tqdm import tqdm\n",
    "import time as t"
   ]
  },
  {
   "cell_type": "markdown",
   "id": "d39df069",
   "metadata": {},
   "source": [
    "Soit une image bicolore de taille $n=w\\times h$. On la représente par la suite $(x_i)_{1\\leq i\\leq n}\\in\\{0, 1\\}^n$, de sorte que la vraie couleur du pixel $i$ est blanc si $x_i=1$ et noir si $x_i=0$. On ne dispose que d'une version bruitée de cette image, représentée en nuances de gris par la suite $(y_i)_{1\\leq i\\leq n}\\in\\{0, \\dots, 255\\}^n$.\n",
    "\n",
    "On suppose que pour tout $i\\in\\{1, \\dots, n\\}$, $y_i$ et $x_i$ sont des réalisations des variables aléatoires $Y_i$ et $X_i$, et que le bruit est gaussien, c'est-à-dire $Y_i|X_i\\sim\\mathcal{N}(\\mu(X_i), \\tau^2)$. Pour retrouver la vraie image $x=(x_i)$, on choisit de modéliser la probabilité d'une configuration $\\tilde{x}=(\\tilde{x}_i)$ par une loi d'Ising : $\\mathbb{P}(X=\\tilde{x})=\\frac{1}{Z(\\alpha, \\beta)}\\exp\\left(\\alpha\\sum_{i=1}^nx_i+\\beta\\sum_{(i, j)\\in\\mathcal{V}}\\mathbf{1}\\{x_i=x_j\\}\\right)$, où $\\mathcal{V}$ est l'ensemble des couples de pixels voisins, i.e. ayant un côté adjacent sur l'image, et $Z(\\alpha, \\beta)$ une constante de normalisation.\n",
    "\n",
    "Dans la première question, on supposera $\\alpha$, $\\beta$ et $\\tau$ connus et fixés. Par la suite, on les considèrera comme des réalisations de variables aléatoires $A$, $B$ et $T$.\n",
    "\n",
    "Le but du problème est de retrouver la vraie représentation $x$ de l'image, qui est la plus probable dans le modèle. Mais on ne peut pas calculer directement la probabilité d'une configuration. En effet, cela suppose de connaître la constante de normalisation $Z(\\alpha, \\beta)$. Or, elle est impossible à calculer en pratique. Considérons l'exemple d'une image de taille $128\\times128$ pixels. On a donc $n=16 384$, et $2^{16384}$ configurations possibles. Pour chacune de ces configurations, on doit calculer une somme à $16384$ termes, et une autre à $4\\times 2+4\\times126\\times3+127^2\\times4=66036$ termes. On peut penser qu'il est possible d'économiser des opérations, mais la présence des voisins empêche de telles simplifications.\n",
    "\n",
    "Pour contourner ce problème, on passe par les densités conditionnelles, bien plus faciles et rapides à calculer. Dans toute la suite, on note $f_Z$ une densité de la variable aléatoire $Z$ par rapport à la mesure de Lebesgue, ou la mesure de comptage. Pour tout $i\\in\\{1, \\dots, n\\}$ et $x_i\\in\\{0, 1\\}$, on a $f_{X_i}(x_i)\\propto\\exp\\left(\\alpha x_i+\\beta\\sum_{j\\in\\mathcal{V}_i}\\mathbf{1}\\{x_i=x_j\\}\\right)$, avec $\\mathcal{V}_i=\\{j\\in\\{1, \\dots, n\\}, (i, j)\\in\\mathcal{V}\\}$ l'ensemble des voisins de $i$. Ici la constante de normalisation est très facile à calculer puisqu'elle n'est composée que de deux termes. On en déduit la densité jointe de $(X_i, Y_i)$, donnée par $f_{(X_i, Y_i)}(x_i, y_i)=f_{X_i}(x_i)\\times\\frac{1}{\\sqrt{2\\pi\\tau^2}}\\exp\\left(-\\frac{(y_i-\\mu(x_i))^2}{2\\tau^2}\\right)$. Cela nous permet enfin de trouver la densité conditionnelle de $X_i|(Y_i, X_{-i})$, avec $X_{-i}=(X_1, \\dots, X_{i-1}, X_{i+1}, \\dots, X_n)$. Elle s'exprime $f_{X_i|Y_i=y_i}(x_i)\\propto\\exp\\left(\\alpha x_i+\\beta\\sum_{j\\in\\mathcal{V}_i}\\mathbf{1}\\{x_i=x_j\\}-\\frac{(y_i-\\mu(x_i))^2}{2\\tau^2}\\right)$.\n",
    "\n",
    "On va utiliser le principe de l'échantillonneur de Gibbs.\n",
    "\n",
    "**Initialisation :**\n",
    "On pose $j=1$. On initialise $X^{(0)}=(X_1^{(0)}, \\dots, X_n^{(0)})$ à partir de l'image bruitée $Y$.\n",
    "\n",
    "**Itération :**\n",
    "On tire une nouvelle valeur $X^{(j)}=(X_1^{(j)}, \\dots, X_n^{(j)})$ en utilisant les lois conditionnelles $X_i^{(j)}|(Y_1, X_{-i}^{(j-1)})$. On passe $j$ à $j+1$.\n",
    "\n",
    "**Convergence :**\n",
    "On itère jusqu'à convergence vers une représentation $x$.\n",
    "\n",
    "*Remarque : dans l'étape d'itération, on peut tirer les $(X_i)$ dans un ordre fixé et prédéterminé, ou choisir aléatoirement un entier $i$.*"
   ]
  },
  {
   "cell_type": "markdown",
   "id": "f8095d68",
   "metadata": {},
   "source": [
    "# Question 1."
   ]
  },
  {
   "cell_type": "markdown",
   "id": "87c27d61",
   "metadata": {},
   "source": [
    "Dans cette question, $\\alpha$, $\\beta$ et $\\tau$ sont connus et fixés."
   ]
  },
  {
   "cell_type": "markdown",
   "id": "3efb7378",
   "metadata": {},
   "source": [
    "## 1 - Chargement des images"
   ]
  },
  {
   "cell_type": "markdown",
   "id": "0953c567",
   "metadata": {
    "id": "0953c567"
   },
   "source": [
    "On utilise le module ```plotly``` pour afficher les images"
   ]
  },
  {
   "cell_type": "code",
   "execution_count": null,
   "id": "e18d6e34",
   "metadata": {
    "colab": {
     "base_uri": "https://localhost:8080/",
     "height": 542
    },
    "id": "e18d6e34",
    "outputId": "66526a3e-a03e-43a4-85d9-46a60700f0b5"
   },
   "outputs": [],
   "source": [
    "img = np.arange(25).reshape((5,  5))\n",
    "fig = px.imshow(img, color_continuous_scale='gray')\n",
    "fig.show()"
   ]
  },
  {
   "cell_type": "code",
   "execution_count": null,
   "id": "99ca26d2",
   "metadata": {
    "id": "99ca26d2"
   },
   "outputs": [],
   "source": [
    "# Lecture et affichage de l'image à débruiter\n",
    "#img_ = io.imread('https://images.fineartamerica.com/images/artworkimages/mediumlarge/3/op-art-black-and-white-infinity-whirl-tom-hill.jpg')\n",
    "img_ = io.imread('example.jpg')\n",
    "\n",
    "img = np.zeros(img_.shape[:2])\n",
    "for i in range(len(img)):\n",
    "    for j in range(len(img[0])):\n",
    "        img[i][j] = np.mean(img_[i][j])"
   ]
  },
  {
   "cell_type": "code",
   "execution_count": null,
   "id": "676aedb0",
   "metadata": {
    "colab": {
     "base_uri": "https://localhost:8080/",
     "height": 542
    },
    "id": "676aedb0",
    "outputId": "82d6ae5c-4505-4963-df18-93bb25c96987"
   },
   "outputs": [],
   "source": [
    "fig = px.imshow(img, color_continuous_scale='gray')\n",
    "fig.show()"
   ]
  },
  {
   "cell_type": "markdown",
   "id": "1ad2c05c",
   "metadata": {
    "id": "1ad2c05c"
   },
   "source": [
    "En zoomant sur le centre de l'image, on s'aperçoit qu'elle a été bruitée, que les pixels censés être blancs sont en teintes de gris."
   ]
  },
  {
   "cell_type": "markdown",
   "id": "e5bec143",
   "metadata": {},
   "source": [
    "## 2 - Prérequis pour le Gibbs sampler"
   ]
  },
  {
   "cell_type": "code",
   "execution_count": null,
   "id": "8bb52aa3",
   "metadata": {
    "id": "8bb52aa3"
   },
   "outputs": [],
   "source": [
    "# Taille de l'image\n",
    "w, h = img.shape"
   ]
  },
  {
   "cell_type": "markdown",
   "id": "a39e788f",
   "metadata": {
    "id": "a39e788f"
   },
   "source": [
    "Les $(y_i)\\in\\{0,\\dots,  255\\}^n$ sont les niveaux de gris des pixels de l'image bruitée."
   ]
  },
  {
   "cell_type": "code",
   "execution_count": null,
   "id": "3f40307f",
   "metadata": {
    "colab": {
     "base_uri": "https://localhost:8080/"
    },
    "id": "3f40307f",
    "outputId": "b0c62ba8-8908-42b6-bf02-29ec4f982ca5"
   },
   "outputs": [],
   "source": [
    "y = np.reshape(img, (w*h))\n",
    "y"
   ]
  },
  {
   "cell_type": "markdown",
   "id": "2aa2760b",
   "metadata": {
    "id": "2aa2760b"
   },
   "source": [
    "On a besoin d'une fonction pour trouver les voisins du pixel $i$. Pour faciliter l'opération, on commence par trouver les coordonnées du point $i$ sur l'image.\n",
    "Supposons que l'image a une taille de $w\\times h$ pixels.\n",
    "La case $i$ a pour coordonnées $(i\\% w, i//w)$ (on commence la numérotation des cases à $0$)."
   ]
  },
  {
   "cell_type": "code",
   "execution_count": null,
   "id": "28772748",
   "metadata": {
    "id": "28772748"
   },
   "outputs": [],
   "source": [
    "def coordonnees(i):\n",
    "    return((i%w, i//w))\n",
    "\n",
    "def voisins(i):\n",
    "    x, y = coordonnees(i)\n",
    "    if x == 0:\n",
    "        if y == 0:\n",
    "            lvois = [i+1, i+w]\n",
    "        elif y == h-1:\n",
    "            lvois = [i-w, i+1]\n",
    "        else:\n",
    "            lvois = [i-w, i+1, i+w]\n",
    "    elif x == w-1:\n",
    "        if y == 0:\n",
    "            lvois = [i-1, i+w]\n",
    "        elif y == h-1:\n",
    "            lvois = [i-w, i-1]\n",
    "        else:\n",
    "            lvois = [i-w, i-1, i+w]\n",
    "    else:\n",
    "        if y == 0:\n",
    "            lvois = [i-1, i+1, i+w]\n",
    "        elif y == h-1:\n",
    "            lvois = [i-w, i+1, i-1]\n",
    "        else:\n",
    "            lvois = [i-w, i+1, i+w, i-1]\n",
    "    return(lvois)"
   ]
  },
  {
   "cell_type": "markdown",
   "id": "73ec46d8",
   "metadata": {
    "id": "73ec46d8"
   },
   "source": [
    "Dans notre modèle de bruit gaussien, on suppose que les niveaux de gris $(y_i)$ ont été tirés selon une loi normale de moyenne $0$ si le vrai pixel est noir, et $255$ si le vrai pixel est blanc. La vraie couleur du pixel $i$ est donnée par $x_i\\in\\{0, 1\\}$. Par convention, le pixel est noir si $x_i=0$ et blanc si $x_i=1$."
   ]
  },
  {
   "cell_type": "markdown",
   "id": "0db93778",
   "metadata": {
    "id": "0db93778"
   },
   "source": [
    "On a donc, avec les notations données au début du notebook, $\\mu(x_i)=255\\times\\mathbf{1}\\{x_i=1\\}=255x_i$"
   ]
  },
  {
   "cell_type": "code",
   "execution_count": null,
   "id": "10a4a142",
   "metadata": {
    "id": "10a4a142"
   },
   "outputs": [],
   "source": [
    "def mu(k):\n",
    "    return(255*k)"
   ]
  },
  {
   "cell_type": "markdown",
   "id": "637801fd",
   "metadata": {
    "id": "637801fd"
   },
   "source": [
    "On définit ensuite une densité de la loi de $X_i$ sachant $X_{-i}$ et les $Y_i$."
   ]
  },
  {
   "cell_type": "code",
   "execution_count": null,
   "id": "469d70c4",
   "metadata": {
    "id": "469d70c4"
   },
   "outputs": [],
   "source": [
    "def pxi(x, y, i, alpha, beta, tau):\n",
    "    '''returns P(x_i = 1 |x_{-i}, y_i)'''\n",
    "    b0 = beta*sum([int(x[j] == 0) for j in voisins(i)])\n",
    "    b1 = beta*sum([int(x[j] == 1) for j in voisins(i)])\n",
    "    \n",
    "    n0 = (y[i]**2)/(2*tau**2)\n",
    "    n1 = ((y[i]-255)**2)/(2*tau**2)\n",
    "    \n",
    "    a0 = b0 - n0\n",
    "    a1 = alpha + b1 - n1\n",
    "    \n",
    "    e0 = np.exp(a0)\n",
    "    e1 = np.exp(a1)\n",
    "    \n",
    "    return(e1/(e1+e0))"
   ]
  },
  {
   "cell_type": "markdown",
   "id": "2759f371",
   "metadata": {
    "id": "2759f371"
   },
   "source": [
    "## 3 - Gibbs sampler"
   ]
  },
  {
   "cell_type": "markdown",
   "id": "dcf31fdc",
   "metadata": {},
   "source": [
    "### a) Implémentation"
   ]
  },
  {
   "cell_type": "code",
   "execution_count": null,
   "id": "793648da",
   "metadata": {
    "id": "793648da"
   },
   "outputs": [],
   "source": [
    "def sampler(alpha, beta, tau, y0 = y, max_it = 100):\n",
    "    '''Gibbs sampler.\n",
    "    \n",
    "    Input:\n",
    "        :alpha, beta, tau : float, paramètres du modèle.\n",
    "        :y0 : array, image initiale bruitée.\n",
    "        :max_it : int, itérations du sampler.\n",
    "        \n",
    "    Output:\n",
    "        :X : matrix, X[i] est la configuration de l'image à l'itération i.\n",
    "        :x : array, X[-1], configuration de l'image après la dernière itération.\n",
    "    '''\n",
    "    x = np.array([float(yi>128) for yi in y0])\n",
    "    X = np.zeros((max_it+1, w*h))\n",
    "    X[0] = x\n",
    "\n",
    "    for j in tqdm(range(max_it)):\n",
    "        for i in range(len(x)):\n",
    "            i = np.random.randint(0, w*h)\n",
    "            s = np.random.random()\n",
    "            x[i] = int(pxi(x, y, i, alpha, beta, tau) > s)\n",
    "        X[j+1] = x\n",
    "    \n",
    "    return(X, x)"
   ]
  },
  {
   "cell_type": "code",
   "execution_count": null,
   "id": "90bc6d1a",
   "metadata": {
    "colab": {
     "base_uri": "https://localhost:8080/"
    },
    "id": "90bc6d1a",
    "outputId": "76eaef97-2e30-46a0-baf5-3d21e2ec94f6"
   },
   "outputs": [],
   "source": [
    "X, x = sampler(-1/3, 2/3, 1, max_it=12)"
   ]
  },
  {
   "cell_type": "code",
   "execution_count": null,
   "id": "123b8d1a",
   "metadata": {
    "colab": {
     "base_uri": "https://localhost:8080/",
     "height": 542
    },
    "id": "123b8d1a",
    "outputId": "470c145e-f9f8-4d5f-e5c3-799c46b3767b"
   },
   "outputs": [],
   "source": [
    "fig = px.imshow(X[3].reshape((w, h)), color_continuous_scale='gray')\n",
    "fig.show()"
   ]
  },
  {
   "cell_type": "markdown",
   "id": "6d0f8a9c",
   "metadata": {
    "id": "6d0f8a9c"
   },
   "source": [
    "### b) Détermination du *burn-in*"
   ]
  },
  {
   "cell_type": "code",
   "execution_count": null,
   "id": "a631af57",
   "metadata": {
    "id": "a631af57"
   },
   "outputs": [],
   "source": [
    "def make_X3(X):\n",
    "    '''\n",
    "    Input:\n",
    "        X: array, obtenu avec le sampler\n",
    "        \n",
    "    Output:\n",
    "        X3: array, contient les images de X, avec les pixels qui changent entre deux images successives colorés en rouge.\n",
    "        change: array, nombre de pixels changés à chaque itération.\n",
    "    '''\n",
    "    it, wh = X.shape\n",
    "    X3 = np.zeros((it-1, wh, 3))\n",
    "    change = np.zeros(it-1)\n",
    "    for i in tqdm(range(it-1)):\n",
    "        for j in range(wh):\n",
    "            if X[i+1][j] == X[i][j]:\n",
    "                X3[i][j] = [255*X[i][j]]*3\n",
    "            else:\n",
    "                X3[i][j] = [255., 0., 0.]\n",
    "                change[i] += 1\n",
    "    return(X3, change)"
   ]
  },
  {
   "cell_type": "code",
   "execution_count": null,
   "id": "2a9918d0",
   "metadata": {
    "colab": {
     "base_uri": "https://localhost:8080/"
    },
    "id": "2a9918d0",
    "outputId": "af49d631-0c62-4cf5-a84f-d315577817fc"
   },
   "outputs": [],
   "source": [
    "X3, change = make_X3(X)"
   ]
  },
  {
   "cell_type": "code",
   "execution_count": null,
   "id": "e4086852",
   "metadata": {
    "colab": {
     "base_uri": "https://localhost:8080/",
     "height": 542
    },
    "id": "e4086852",
    "outputId": "3fe602cc-18d3-449e-a98c-a0c6dbf942c0"
   },
   "outputs": [],
   "source": [
    "# Les pixels shiftés lors de l'itération apparaissent en rouge.\n",
    "fig = px.imshow(X3[1].reshape((w, h, 3)))\n",
    "fig.show()"
   ]
  },
  {
   "cell_type": "code",
   "execution_count": null,
   "id": "f36b5170",
   "metadata": {
    "colab": {
     "base_uri": "https://localhost:8080/",
     "height": 542
    },
    "id": "f36b5170",
    "outputId": "750c75dc-a6fe-450c-f63c-588948421ad0"
   },
   "outputs": [],
   "source": [
    "# plot du nombre de pixels shiftés à chaque itération\n",
    "fig = px.line(change, markers=True)\n",
    "fig.show()"
   ]
  },
  {
   "cell_type": "markdown",
   "id": "ac8b2ce8",
   "metadata": {},
   "source": [
    "## 4 - Tests et applications"
   ]
  },
  {
   "cell_type": "markdown",
   "id": "331c8f49",
   "metadata": {
    "id": "331c8f49"
   },
   "source": [
    "### a) Bruitage de l'image"
   ]
  },
  {
   "cell_type": "code",
   "execution_count": null,
   "id": "580f18ac",
   "metadata": {
    "id": "580f18ac"
   },
   "outputs": [],
   "source": [
    "def generate_noise(x, tau=1):\n",
    "    '''A partir d'une configuration de base x, génère une image bruitée y.\n",
    "    Bruit gaussien de variance tau'''\n",
    "    n = len(x)\n",
    "    y = np.zeros(n)\n",
    "    for i in range(n):\n",
    "        if x[i] == 0:\n",
    "            y[i] = np.abs(np.random.normal(0, tau))\n",
    "        else:\n",
    "            y[i] = 255 - np.abs(np.random.normal(0, tau))\n",
    "    return(y)"
   ]
  },
  {
   "cell_type": "code",
   "execution_count": null,
   "id": "dda7009b",
   "metadata": {
    "colab": {
     "base_uri": "https://localhost:8080/"
    },
    "id": "dda7009b",
    "outputId": "6ab54f1f-4572-4d18-c25e-3bf977f39e1f"
   },
   "outputs": [],
   "source": [
    "y_noisy = generate_noise(y,tau=70)\n",
    "y_noisy"
   ]
  },
  {
   "cell_type": "code",
   "execution_count": null,
   "id": "29f12d03",
   "metadata": {
    "colab": {
     "base_uri": "https://localhost:8080/",
     "height": 542
    },
    "id": "29f12d03",
    "outputId": "dccc4272-3586-475c-f9f2-50b07967eafd"
   },
   "outputs": [],
   "source": [
    "fig = px.imshow(y_noisy.reshape((w, h)), color_continuous_scale='gray')\n",
    "fig.show()"
   ]
  },
  {
   "cell_type": "markdown",
   "id": "e12dd8d5",
   "metadata": {},
   "source": [
    "### b) Débruitage"
   ]
  },
  {
   "cell_type": "code",
   "execution_count": null,
   "id": "862cba6a",
   "metadata": {
    "colab": {
     "base_uri": "https://localhost:8080/"
    },
    "id": "862cba6a",
    "outputId": "3834c9fa-7fba-4596-d404-86fcadfc1711"
   },
   "outputs": [],
   "source": [
    "X, x = sampler(-1/3, 2/3, 20, y0=y_noisy,max_it=12)"
   ]
  },
  {
   "cell_type": "code",
   "execution_count": null,
   "id": "c8jb3FycijLk",
   "metadata": {
    "colab": {
     "base_uri": "https://localhost:8080/",
     "height": 542
    },
    "id": "c8jb3FycijLk",
    "outputId": "f34b934e-e5d6-4991-82c2-0185f0597d44"
   },
   "outputs": [],
   "source": [
    "fig = px.imshow(X[2].reshape((w, h)), color_continuous_scale='gray')\n",
    "fig.show()"
   ]
  },
  {
   "cell_type": "code",
   "execution_count": null,
   "id": "d27d1e68",
   "metadata": {},
   "outputs": [],
   "source": [
    "X3, change = make_X3(X)"
   ]
  },
  {
   "cell_type": "code",
   "execution_count": null,
   "id": "93a2fdf7",
   "metadata": {},
   "outputs": [],
   "source": [
    "# plot du nombre de pixels shiftés à chaque itération\n",
    "fig = px.line(change, markers=True)\n",
    "fig.show()"
   ]
  },
  {
   "cell_type": "markdown",
   "id": "nruCQTuwuJ9g",
   "metadata": {
    "id": "nruCQTuwuJ9g"
   },
   "source": [
    "# Question 2.\n",
    "\n",
    "On suppose cette fois-ci $\\tau$ inconnu. On suppose que $\\tau^2$ est une réalisation d'une variable aléatoire $T$ de loi *a priori* inverse-Gamma, de paramètres notés $(\\sigma, \\lambda)\\in(\\mathbb{R}_+^*)^2$. On a donc $f_T(\\tau^2)=\\frac{\\lambda^{\\sigma}}{\\Gamma(\\sigma)}\\frac{1}{(\\tau^2)^{\\sigma+1}}\\exp\\left(-\\frac{\\lambda}{\\tau^2}\\right)$.\n",
    "\n",
    "Par ailleurs, la densité *a posteriori* s'écrit $f_{T|(X, Y)=(x, y)}(\\tau^2)\\propto\\left(\\frac{1}{\\sqrt{2\\pi\\tau^2}^n}\\exp\\left(-\\sum_{i=1}^n\\frac{(y_i-\\mu(x_i))^2}{2\\tau^2} \\right)\\right)\\left(\\frac{\\lambda^{\\sigma}}{\\Gamma(\\sigma)}\\frac{1}{(\\tau^2)^{\\sigma+1}}\\exp\\left(-\\frac{\\lambda}{\\tau^2}\\right)\\right)$. En imposant que le modèle soit conjugué, on peut mettre la densité *a posteriori* sous une forme qui donne directement les paramètres *a posteriori* $(\\widehat{\\sigma}, \\widehat{\\lambda})$. On obtient $f_{T|(X, Y)=(x, y)}(\\tau^2)\\propto\\frac{1}{(\\tau^2)^{n+\\sigma+1}}\\exp\\left(-\\frac{1}{\\tau^2}\\left(\\lambda+\\frac{1}{2}\\sum_{i=1}^n(y_i-\\mu(x_i))^2\\right)\\right)$. On constate que $\\widehat{\\sigma} = n + \\sigma$ et $\\widehat{\\lambda} = \\lambda + \\frac{1}{2}\\sum_{i=1}^n(y_i-\\mu(x_i))^2$.\n",
    "\n",
    "Dans l'échantillonneur de Gibbs, on va sampler $T|(Y, X) \\sim IG(\\widehat{\\sigma}, \\widehat{\\lambda})$. Mais on ne connaît pas encore $(\\sigma, \\lambda)$. On veut que l'espérance de $T|(X, Y)$, donnée par $\\mathbb{E}[T|(X, Y)=(x, y)] = \\frac{\\lambda+ \\frac{1}{2}\\sum_{i=1}^n(y_i-\\mu(x_i))^2}{n+\\sigma-1}$, soit égale à l'estimateur du maximum de vraisemblance de $\\tau^2$, que l'on peut facilement calculer : $\\widehat{\\tau}^2_{EMV} = \\frac{1}{n}\\sum_{j=1}^n(y_j-\\mu(x_j))^2)$.\n",
    "\n",
    "En fixant $\\lambda=0$, on obtient $\\sigma=1-\\frac{n}{2}$, i.e. $\\widehat{\\sigma} = 1+\\frac{n}{2}$ et $\\widehat{\\lambda} = \\frac{1}{2}\\sum_{i=1}^n(y_i-\\mu(x_i))^2$."
   ]
  },
  {
   "cell_type": "code",
   "execution_count": null,
   "id": "j7tAvcucndbB",
   "metadata": {
    "colab": {
     "base_uri": "https://localhost:8080/",
     "height": 542
    },
    "id": "j7tAvcucndbB",
    "outputId": "915126d4-a52e-46fa-b4e6-34e6891543ed"
   },
   "outputs": [],
   "source": [
    "y_clean = np.array([float(y[i]>128) for i in range(len(y))])\n",
    "y_noisy = generate_noise(255*y_clean, tau=50)"
   ]
  },
  {
   "cell_type": "code",
   "execution_count": null,
   "id": "cfa44a2a",
   "metadata": {},
   "outputs": [],
   "source": [
    "fig = px.imshow(y_noisy.reshape((w, h)), color_continuous_scale='gray')\n",
    "fig.show()"
   ]
  },
  {
   "cell_type": "code",
   "execution_count": null,
   "id": "dk_5ZJq3nC-R",
   "metadata": {
    "id": "dk_5ZJq3nC-R"
   },
   "outputs": [],
   "source": [
    "from scipy.stats import invgamma\n",
    "\n",
    "def sampler_without_tau(alpha, beta, y0, max_it = 100):\n",
    "    '''Gibbs sampler.\n",
    "    \n",
    "    Input:\n",
    "        :alpha, beta : float, paramètres du modèle.\n",
    "        :y0 : array, image initiale bruitée.\n",
    "        :max_it : int, itérations du sampler.\n",
    "        \n",
    "    Output:\n",
    "        :X : matrix, X[i] est la configuration de l'image à l'itération i.\n",
    "        :x : array, X[-1], configuration de l'image après la dernière itération.\n",
    "    '''\n",
    "    x = np.array([float(y0[i]>128) for i in range(len(y0))])\n",
    "    X = np.zeros((max_it+1, w*h))\n",
    "    X[0] = x\n",
    "    n = len(x)\n",
    "    a_p, b_p = -n/2, 0\n",
    "    a = n+1\n",
    "\n",
    "    for j in tqdm(range(max_it)):\n",
    "        \n",
    "        b = 0.5*np.sum([(y0[k] - mu(x[k]))**2 for k in range(n)])\n",
    "        tau2 = invgamma.rvs(a+a_p, loc=0, scale = b)\n",
    "        print(f\" Tau estimé : {np.sqrt(tau2)}\")\n",
    "        \n",
    "        for i in range(len(x)):\n",
    "            i = np.random.randint(0, w*h)\n",
    "            s = np.random.random()\n",
    "            x[i] = int(pxi(x, y0,i, alpha, beta, np.sqrt(tau2)) > s)\n",
    "\n",
    "        X[j+1] = x\n",
    "        \n",
    "    return(X, x)"
   ]
  },
  {
   "cell_type": "code",
   "execution_count": null,
   "id": "yKaUvgMm1yBO",
   "metadata": {
    "colab": {
     "base_uri": "https://localhost:8080/"
    },
    "id": "yKaUvgMm1yBO",
    "outputId": "3347a6da-c451-46ed-eb8f-e728777a0a7f"
   },
   "outputs": [],
   "source": [
    "X, x = sampler_without_tau(-1/3, 2/3, y0=y_noisy, max_it=12)"
   ]
  },
  {
   "cell_type": "code",
   "execution_count": null,
   "id": "NYJ7qwjqks3a",
   "metadata": {
    "colab": {
     "base_uri": "https://localhost:8080/",
     "height": 1000
    },
    "id": "NYJ7qwjqks3a",
    "outputId": "8c31ea8d-edaf-449f-ca20-8aa2e414d58d"
   },
   "outputs": [],
   "source": [
    "fig = px.imshow(255*y_clean.reshape((w, h)), color_continuous_scale='gray', title=\"Image clean\")\n",
    "fig.show()\n",
    "\n",
    "fig = px.imshow(y_noisy.reshape((w, h)), color_continuous_scale='gray', title=\"Image noisy (simulée)\")\n",
    "fig.show()\n",
    "\n",
    "\n",
    "error_rate = []\n",
    "\n",
    "for i in range(1,len(X)):\n",
    "    diff = np.abs(y_clean - X[i])\n",
    "    err = sum(diff)/len(diff)\n",
    "    error_rate.append(err)\n",
    "    print(f\"Taux d'erreur : {err} %\")\n",
    "    fig = px.imshow(X[i].reshape((w, h)), color_continuous_scale='gray', title=f\"Après l'itération n°{i}\")\n",
    "    fig.show()\n",
    "\n",
    "fig = px.line(error_rate, markers=True)\n",
    "fig.update_layout(\n",
    "    title=\"Mesure du taux d'erreur\",\n",
    "    xaxis_title=\"Itérations\",\n",
    "    yaxis_title=\"Taux d'erreur\"\n",
    ")\n",
    "fig.show()"
   ]
  },
  {
   "cell_type": "markdown",
   "id": "9jb42iKpxwcW",
   "metadata": {
    "id": "9jb42iKpxwcW"
   },
   "source": [
    "## Test avec une image différente :"
   ]
  },
  {
   "cell_type": "code",
   "execution_count": null,
   "id": "nJ08akPnx1QT",
   "metadata": {
    "colab": {
     "base_uri": "https://localhost:8080/",
     "height": 542
    },
    "id": "nJ08akPnx1QT",
    "outputId": "f016f768-fa94-45ae-a3a7-0268ca064a29"
   },
   "outputs": [],
   "source": [
    "# Lecture et affichage de l'image à débruiter\n",
    "img_ = image.imread('cow.jpg')\n",
    "\n",
    "img = np.zeros(img_.shape[:2])\n",
    "for i in range(len(img)):\n",
    "    for j in range(len(img[0])):\n",
    "        img[i][j] = np.mean(img_[i][j])\n",
    "\n",
    "w, h = img.shape\n",
    "\n",
    "y = np.reshape(img, (w*h))\n",
    "y_clean = np.array([float(y[i]>.5) for i in range(len(y))])\n",
    "y_noisy = generate_noise(255*y_clean,tau=60)\n",
    "fig = px.imshow(y_noisy.reshape((w, h)), color_continuous_scale='gray')\n",
    "fig.show()"
   ]
  },
  {
   "cell_type": "code",
   "execution_count": null,
   "id": "Nn2J9LSEy1we",
   "metadata": {
    "colab": {
     "base_uri": "https://localhost:8080/",
     "height": 1000
    },
    "id": "Nn2J9LSEy1we",
    "outputId": "21199cfd-a31c-4a20-8b57-d3ff83f4142c"
   },
   "outputs": [],
   "source": [
    "y = y_noisy\n",
    "X, x = sampler_without_tau(-1/3, 2/3,y0=y,max_it=5)\n",
    "\n",
    "fig = px.imshow(255*y_clean.reshape((w, h)), color_continuous_scale='gray', title=\"Image clean\")\n",
    "fig.show()\n",
    "\n",
    "fig = px.imshow(y_noisy.reshape((w, h)), color_continuous_scale='gray', title=\"Image noisy\")\n",
    "fig.show()\n",
    "\n",
    "\n",
    "error_rate = []\n",
    "\n",
    "for i in range(1,len(X)):\n",
    "  diff = np.abs(y_clean - X[i])\n",
    "  err = sum(diff)/len(diff)\n",
    "  error_rate.append(err)\n",
    "  print(f\"Taux d'erreur : {err} %\")\n",
    "  fig = px.imshow(X[i].reshape((w, h)), color_continuous_scale='gray', title=f\"Après l'itération n°{i}\")\n",
    "  fig.show()\n",
    "\n",
    "fig = px.line(error_rate, markers=True)\n",
    "fig.update_layout(\n",
    "    title=\"Mesure du taux d'erreur\",\n",
    "    xaxis_title=\"Itérations\",\n",
    "    yaxis_title=\"Taux d'erreur\"\n",
    ")\n",
    "fig.show()"
   ]
  },
  {
   "cell_type": "markdown",
   "id": "WMG24-tmq3-8",
   "metadata": {
    "id": "WMG24-tmq3-8"
   },
   "source": [
    "# Question 3"
   ]
  }
 ],
 "metadata": {
  "colab": {
   "collapsed_sections": [],
   "name": "notebook2.ipynb",
   "provenance": []
  },
  "kernelspec": {
   "display_name": "Python 3 (ipykernel)",
   "language": "python",
   "name": "python3"
  },
  "language_info": {
   "codemirror_mode": {
    "name": "ipython",
    "version": 3
   },
   "file_extension": ".py",
   "mimetype": "text/x-python",
   "name": "python",
   "nbconvert_exporter": "python",
   "pygments_lexer": "ipython3",
   "version": "3.9.7"
  }
 },
 "nbformat": 4,
 "nbformat_minor": 5
}
