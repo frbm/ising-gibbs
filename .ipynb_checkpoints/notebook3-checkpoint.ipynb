{
 "cells": [
  {
   "cell_type": "code",
   "execution_count": null,
   "id": "e31f0d91",
   "metadata": {},
   "outputs": [],
   "source": [
    "import numpy as np\n",
    "from skimage import io\n",
    "import plotly.express as px\n",
    "import plotly.graph_objs as go\n",
    "from copy import copy\n",
    "from tqdm import tqdm\n",
    "import time as t"
   ]
  },
  {
   "cell_type": "code",
   "execution_count": null,
   "id": "fccb4fe4",
   "metadata": {},
   "outputs": [],
   "source": [
    "# Lecture et affichage de l'image à débruiter\n",
    "img_ = io.imread('https://images.fineartamerica.com/images/artworkimages/mediumlarge/3/op-art-black-and-white-infinity-whirl-tom-hill.jpg')"
   ]
  },
  {
   "cell_type": "code",
   "execution_count": null,
   "id": "7f1f78f0",
   "metadata": {},
   "outputs": [],
   "source": [
    "img = np.zeros(img_.shape[:2])\n",
    "for i in range(len(img)):\n",
    "    for j in range(len(img[0])):\n",
    "        img[i][j] = np.mean(img_[i][j])\n",
    "\n",
    "fig = px.imshow(img, color_continuous_scale='gray')\n",
    "fig.show()"
   ]
  },
  {
   "cell_type": "markdown",
   "id": "561e059a",
   "metadata": {},
   "source": [
    "En zoomant sur le centre de l'image, on s'aperçoit qu'elle a été bruitée, que les pixels censés être blancs sont en teintes de gris."
   ]
  },
  {
   "cell_type": "code",
   "execution_count": null,
   "id": "333acde9",
   "metadata": {},
   "outputs": [],
   "source": [
    "# Taille de l'image\n",
    "w, h = img.shape\n",
    "y = np.reshape(img, (w*h))"
   ]
  },
  {
   "cell_type": "markdown",
   "id": "3a7e0958",
   "metadata": {},
   "source": [
    "Les $(y_i)\\in\\{0,\\dots,  255\\}^n$ sont les niveaux de gris des pixels de l'image bruitée."
   ]
  },
  {
   "cell_type": "markdown",
   "id": "2db0b3dc",
   "metadata": {},
   "source": [
    "On a besoin d'une fonction pour trouver les voisins du pixel $i$. Pour faciliter l'opération, on commence par trouver les coordonnées du point $i$ sur l'image.\n",
    "Supposons que l'image a une taille de $w\\times h$ pixels.\n",
    "La case $i$ a pour coordonnées $(i\\% w, i//w)$ (on commence la numérotation des cases à $0$)."
   ]
  },
  {
   "cell_type": "code",
   "execution_count": null,
   "id": "70b146b5",
   "metadata": {},
   "outputs": [],
   "source": [
    "def coordonnees(i):\n",
    "    return((i%w, i//w))\n",
    "\n",
    "def voisins(i):\n",
    "    x, y = coordonnees(i)\n",
    "    if x == 0:\n",
    "        if y == 0:\n",
    "            lvois = [i+1, i+w]\n",
    "        elif y == h-1:\n",
    "            lvois = [i-w, i+1]\n",
    "        else:\n",
    "            lvois = [i-w, i+1, i+w]\n",
    "    elif x == w-1:\n",
    "        if y == 0:\n",
    "            lvois = [i-1, i+w]\n",
    "        elif y == h-1:\n",
    "            lvois = [i-w, i-1]\n",
    "        else:\n",
    "            lvois = [i-w, i-1, i+w]\n",
    "    else:\n",
    "        if y == 0:\n",
    "            lvois = [i-1, i+1, i+w]\n",
    "        elif y == h-1:\n",
    "            lvois = [i-w, i+1, i-1]\n",
    "        else:\n",
    "            lvois = [i-w, i+1, i+w, i-1]\n",
    "    return(lvois)"
   ]
  },
  {
   "cell_type": "markdown",
   "id": "1e18a3a0",
   "metadata": {},
   "source": [
    "Les niveaux de gris $(y_i)$ sont tirés selon une loi normale de moyenne $0$ si le vrai pixel est noir, et $255$ si le vrai pixel est blanc. La vraie couleur du pixel $i$ est donnée par $x_i\\in\\{0, 1\\}$. Par convention, le pixel est noir si $x_i=0$ et blanc si $x_i=1$.\n",
    "\n",
    "On a donc $\\mu(x_i)=255\\times\\mathbf{1}\\{x_i=1\\}=255x_i$.\n",
    "\n",
    "On définit ensuite une densité de la loi de $x_i$ sachant la configuration $x$ et les $(y_i)$.\n",
    "\n",
    "$\\tilde{p}(x_i|y_i, x_{-i})\\propto\\exp\\left(\\alpha x_i+\\beta\\sum_{j\\in\\mathcal{V}_i}\\mathbf{1}\\{x_i=x_j\\}-\\frac{(y_i-\\mu_k)^2}{2\\tau^2}\\right)$"
   ]
  },
  {
   "cell_type": "code",
   "execution_count": null,
   "id": "34f58259",
   "metadata": {},
   "outputs": [],
   "source": [
    "def mu(k):\n",
    "    return(255*k)\n",
    "\n",
    "def pxi(x, y, i, alpha, beta, tau):\n",
    "    '''returns P(x_i = 1 |x_{-i}, y_i)'''\n",
    "    b0 = beta*sum([int(x[j] == 0) for j in voisins(i)])\n",
    "    b1 = beta*sum([int(x[j] == 1) for j in voisins(i)])\n",
    "    \n",
    "    n0 = (y[i]**2)/(2*tau**2)\n",
    "    n1 = ((y[i]-255)**2)/(2*tau**2)\n",
    "    \n",
    "    a0 = b0 - n0\n",
    "    a1 = alpha + b1 - n1\n",
    "    \n",
    "    e0 = np.exp(a0)\n",
    "    e1 = np.exp(a1)\n",
    "    \n",
    "    return(e1/(e1+e0))"
   ]
  },
  {
   "cell_type": "markdown",
   "id": "1d337afc",
   "metadata": {},
   "source": [
    "## Gibbs sampling"
   ]
  },
  {
   "cell_type": "code",
   "execution_count": null,
   "id": "de0ca91a",
   "metadata": {},
   "outputs": [],
   "source": [
    "def sampler(alpha, beta, tau, y0 = y, max_it = 100):\n",
    "    '''Gibbs sampler.\n",
    "    \n",
    "    Input:\n",
    "        :alpha, beta, tau : float, paramètres du modèle.\n",
    "        :y0 : array, image initiale bruitée.\n",
    "        :max_it : int, itérations du sampler.\n",
    "        \n",
    "    Output:\n",
    "        :X : matrix, X[i] est la configuration de l'image à l'itération i.\n",
    "        :x : array, X[-1], configuration de l'image après la dernière itération.\n",
    "    '''\n",
    "    \n",
    "    x = np.array([float(yi>128) for yi in y0])\n",
    "    X = np.zeros((max_it+1, w*h))\n",
    "    X[0] = x\n",
    "\n",
    "    for j in tqdm(range(max_it)):\n",
    "        for i in range(len(x)):\n",
    "            s = np.random.random()\n",
    "            if pxi(x, y, i, alpha, beta, tau) > s:\n",
    "                x[i] = 1\n",
    "            else:\n",
    "                x[i] = 0\n",
    "        X[j+1] = x\n",
    "    \n",
    "    return(X, x)"
   ]
  },
  {
   "cell_type": "code",
   "execution_count": null,
   "id": "f84756ee",
   "metadata": {
    "scrolled": true
   },
   "outputs": [],
   "source": [
    "X, x = sampler(-1/3, 2/3, 1, max_it=2)"
   ]
  },
  {
   "cell_type": "code",
   "execution_count": null,
   "id": "c8914da2",
   "metadata": {},
   "outputs": [],
   "source": [
    "x = np.array([float(yi>128) for yi in y])"
   ]
  },
  {
   "cell_type": "code",
   "execution_count": null,
   "id": "0d9d9275",
   "metadata": {},
   "outputs": [],
   "source": [
    "p = [pxi(x, y, i, -1/3, 2/3, 1) for i in range(len(x))]"
   ]
  },
  {
   "cell_type": "code",
   "execution_count": null,
   "id": "20e2f00d",
   "metadata": {},
   "outputs": [],
   "source": [
    "fig = px.histogram(p, nbins = 10)\n",
    "fig.show()"
   ]
  },
  {
   "cell_type": "code",
   "execution_count": null,
   "id": "94c66365",
   "metadata": {},
   "outputs": [],
   "source": []
  },
  {
   "cell_type": "code",
   "execution_count": null,
   "id": "7d0c78c9",
   "metadata": {},
   "outputs": [],
   "source": [
    "fig = px.imshow(X[7].reshape((w, h)), color_continuous_scale='gray')\n",
    "fig.show()"
   ]
  },
  {
   "cell_type": "markdown",
   "id": "ffb8128d",
   "metadata": {},
   "source": [
    "## Pixels shiftés"
   ]
  },
  {
   "cell_type": "code",
   "execution_count": null,
   "id": "f7302869",
   "metadata": {},
   "outputs": [],
   "source": [
    "def make_X3(X):\n",
    "    it, wh = X.shape\n",
    "    X3 = np.zeros((it-1, wh, 3))\n",
    "    change = np.zeros(it-1)\n",
    "    for i in tqdm(range(it-1)):\n",
    "        for j in range(wh):\n",
    "            if X[i+1][j] == X[i][j]:\n",
    "                X3[i][j] = [255*X[i][j]]*3\n",
    "            else:\n",
    "                X3[i][j] = [255., 0., 0.]\n",
    "                change[i] += 1\n",
    "    return(X3, change)"
   ]
  },
  {
   "cell_type": "code",
   "execution_count": null,
   "id": "9bb33cc9",
   "metadata": {},
   "outputs": [],
   "source": [
    "X3, change = make_X3(X)"
   ]
  },
  {
   "cell_type": "code",
   "execution_count": null,
   "id": "17f0d6c0",
   "metadata": {},
   "outputs": [],
   "source": [
    "# Les pixels shiftés lors de l'itération apparaissent en rouge.\n",
    "fig = px.imshow(X3[0].reshape((w, h, 3)))\n",
    "fig.show()"
   ]
  },
  {
   "cell_type": "code",
   "execution_count": null,
   "id": "68308132",
   "metadata": {},
   "outputs": [],
   "source": [
    "# plot du nombre de pixels shiftés à chaque itération\n",
    "fig = px.line(change, markers=True)\n",
    "fig.show()"
   ]
  },
  {
   "cell_type": "code",
   "execution_count": null,
   "id": "fa7223c1",
   "metadata": {},
   "outputs": [],
   "source": []
  }
 ],
 "metadata": {
  "kernelspec": {
   "display_name": "Python 3 (ipykernel)",
   "language": "python",
   "name": "python3"
  },
  "language_info": {
   "codemirror_mode": {
    "name": "ipython",
    "version": 3
   },
   "file_extension": ".py",
   "mimetype": "text/x-python",
   "name": "python",
   "nbconvert_exporter": "python",
   "pygments_lexer": "ipython3",
   "version": "3.9.7"
  }
 },
 "nbformat": 4,
 "nbformat_minor": 5
}
